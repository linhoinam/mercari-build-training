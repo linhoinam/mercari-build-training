{
  "cells": [
    {
      "cell_type": "markdown",
      "id": "eKuElwamth-X",
      "metadata": {
        "collapsed": false,
        "id": "eKuElwamth-X"
      },
      "source": [
        "# Extra1 Data Analysis"
      ]
    },
    {
      "cell_type": "code",
      "execution_count": 88,
      "id": "QN9gpM_dth-Z",
      "metadata": {
        "ExecuteTime": {
          "end_time": "2024-02-05T00:11:24.173651Z",
          "start_time": "2024-02-05T00:11:20.876737Z"
        },
        "colab": {
          "base_uri": "https://localhost:8080/"
        },
        "id": "QN9gpM_dth-Z",
        "outputId": "e3633d8b-6e84-4b66-8be1-b55984881dea"
      },
      "outputs": [
        {
          "name": "stdout",
          "output_type": "stream",
          "text": [
            "Requirement already satisfied: matplotlib in c:\\users\\user\\anaconda3\\lib\\site-packages (3.9.2)\n",
            "Requirement already satisfied: contourpy>=1.0.1 in c:\\users\\user\\anaconda3\\lib\\site-packages (from matplotlib) (1.2.0)\n",
            "Requirement already satisfied: cycler>=0.10 in c:\\users\\user\\anaconda3\\lib\\site-packages (from matplotlib) (0.11.0)\n",
            "Requirement already satisfied: fonttools>=4.22.0 in c:\\users\\user\\anaconda3\\lib\\site-packages (from matplotlib) (4.51.0)\n",
            "Requirement already satisfied: kiwisolver>=1.3.1 in c:\\users\\user\\anaconda3\\lib\\site-packages (from matplotlib) (1.4.4)\n",
            "Requirement already satisfied: numpy>=1.23 in c:\\users\\user\\anaconda3\\lib\\site-packages (from matplotlib) (1.26.4)\n",
            "Requirement already satisfied: packaging>=20.0 in c:\\users\\user\\anaconda3\\lib\\site-packages (from matplotlib) (24.1)\n",
            "Requirement already satisfied: pillow>=8 in c:\\users\\user\\anaconda3\\lib\\site-packages (from matplotlib) (10.4.0)\n",
            "Requirement already satisfied: pyparsing>=2.3.1 in c:\\users\\user\\anaconda3\\lib\\site-packages (from matplotlib) (3.1.2)\n",
            "Requirement already satisfied: python-dateutil>=2.7 in c:\\users\\user\\anaconda3\\lib\\site-packages (from matplotlib) (2.9.0.post0)\n",
            "Requirement already satisfied: six>=1.5 in c:\\users\\user\\anaconda3\\lib\\site-packages (from python-dateutil>=2.7->matplotlib) (1.16.0)\n",
            "Note: you may need to restart the kernel to use updated packages.\n",
            "Requirement already satisfied: pandas in c:\\users\\user\\anaconda3\\lib\\site-packages (2.2.2)\n",
            "Requirement already satisfied: numpy>=1.26.0 in c:\\users\\user\\anaconda3\\lib\\site-packages (from pandas) (1.26.4)\n",
            "Requirement already satisfied: python-dateutil>=2.8.2 in c:\\users\\user\\anaconda3\\lib\\site-packages (from pandas) (2.9.0.post0)\n",
            "Requirement already satisfied: pytz>=2020.1 in c:\\users\\user\\anaconda3\\lib\\site-packages (from pandas) (2024.1)\n",
            "Requirement already satisfied: tzdata>=2022.7 in c:\\users\\user\\anaconda3\\lib\\site-packages (from pandas) (2023.3)\n",
            "Requirement already satisfied: six>=1.5 in c:\\users\\user\\anaconda3\\lib\\site-packages (from python-dateutil>=2.8.2->pandas) (1.16.0)\n",
            "Note: you may need to restart the kernel to use updated packages.\n",
            "Requirement already satisfied: scikit-learn in c:\\users\\user\\anaconda3\\lib\\site-packages (1.5.1)\n",
            "Requirement already satisfied: numpy>=1.19.5 in c:\\users\\user\\anaconda3\\lib\\site-packages (from scikit-learn) (1.26.4)\n",
            "Requirement already satisfied: scipy>=1.6.0 in c:\\users\\user\\anaconda3\\lib\\site-packages (from scikit-learn) (1.13.1)\n",
            "Requirement already satisfied: joblib>=1.2.0 in c:\\users\\user\\anaconda3\\lib\\site-packages (from scikit-learn) (1.4.2)\n",
            "Requirement already satisfied: threadpoolctl>=3.1.0 in c:\\users\\user\\anaconda3\\lib\\site-packages (from scikit-learn) (3.5.0)\n",
            "Note: you may need to restart the kernel to use updated packages.\n",
            "Requirement already satisfied: seaborn in c:\\users\\user\\anaconda3\\lib\\site-packages (0.13.2)\n",
            "Requirement already satisfied: numpy!=1.24.0,>=1.20 in c:\\users\\user\\anaconda3\\lib\\site-packages (from seaborn) (1.26.4)\n",
            "Requirement already satisfied: pandas>=1.2 in c:\\users\\user\\anaconda3\\lib\\site-packages (from seaborn) (2.2.2)\n",
            "Requirement already satisfied: matplotlib!=3.6.1,>=3.4 in c:\\users\\user\\anaconda3\\lib\\site-packages (from seaborn) (3.9.2)\n",
            "Requirement already satisfied: contourpy>=1.0.1 in c:\\users\\user\\anaconda3\\lib\\site-packages (from matplotlib!=3.6.1,>=3.4->seaborn) (1.2.0)\n",
            "Requirement already satisfied: cycler>=0.10 in c:\\users\\user\\anaconda3\\lib\\site-packages (from matplotlib!=3.6.1,>=3.4->seaborn) (0.11.0)\n",
            "Requirement already satisfied: fonttools>=4.22.0 in c:\\users\\user\\anaconda3\\lib\\site-packages (from matplotlib!=3.6.1,>=3.4->seaborn) (4.51.0)\n",
            "Requirement already satisfied: kiwisolver>=1.3.1 in c:\\users\\user\\anaconda3\\lib\\site-packages (from matplotlib!=3.6.1,>=3.4->seaborn) (1.4.4)\n",
            "Requirement already satisfied: packaging>=20.0 in c:\\users\\user\\anaconda3\\lib\\site-packages (from matplotlib!=3.6.1,>=3.4->seaborn) (24.1)\n",
            "Requirement already satisfied: pillow>=8 in c:\\users\\user\\anaconda3\\lib\\site-packages (from matplotlib!=3.6.1,>=3.4->seaborn) (10.4.0)\n",
            "Requirement already satisfied: pyparsing>=2.3.1 in c:\\users\\user\\anaconda3\\lib\\site-packages (from matplotlib!=3.6.1,>=3.4->seaborn) (3.1.2)\n",
            "Requirement already satisfied: python-dateutil>=2.7 in c:\\users\\user\\anaconda3\\lib\\site-packages (from matplotlib!=3.6.1,>=3.4->seaborn) (2.9.0.post0)\n",
            "Requirement already satisfied: pytz>=2020.1 in c:\\users\\user\\anaconda3\\lib\\site-packages (from pandas>=1.2->seaborn) (2024.1)\n",
            "Requirement already satisfied: tzdata>=2022.7 in c:\\users\\user\\anaconda3\\lib\\site-packages (from pandas>=1.2->seaborn) (2023.3)\n",
            "Requirement already satisfied: six>=1.5 in c:\\users\\user\\anaconda3\\lib\\site-packages (from python-dateutil>=2.7->matplotlib!=3.6.1,>=3.4->seaborn) (1.16.0)\n",
            "Note: you may need to restart the kernel to use updated packages.\n"
          ]
        }
      ],
      "source": [
        "# install libraries for extra contents\n",
        "%pip install matplotlib\n",
        "%pip install pandas\n",
        "%pip install scikit-learn\n",
        "%pip install seaborn\n",
        "\n",
        "import pprint\n",
        "from matplotlib import pyplot as plt\n",
        "%matplotlib inline\n",
        "import pandas as pd\n",
        "import seaborn as sns\n",
        "from sklearn import datasets"
      ]
    },
    {
      "cell_type": "markdown",
      "id": "xWDQgkXzth-b",
      "metadata": {
        "collapsed": false,
        "id": "xWDQgkXzth-b"
      },
      "source": [
        "## Problem 1: Import dataset\n",
        "\n",
        "For this exercise, we will use the Wine dataset provided by the UCI Machine Learning Repository.[Ref](https://archive.ics.uci.edu/dataset/109/wine)\n",
        "This dataset is the result of chemical analysis of wines grown in the same region of Italy and derived from three different varietals.\n",
        "\n",
        "The data definitions are as follows:"
      ]
    },
    {
      "cell_type": "markdown",
      "id": "1ypWAgd9th-d",
      "metadata": {
        "collapsed": false,
        "id": "1ypWAgd9th-d"
      },
      "source": [
        "### target\n",
        "\n",
        "| variable name | definition   |\n",
        "|---------------|--------------|\n",
        "| target        | Type of Wine |"
      ]
    },
    {
      "cell_type": "markdown",
      "id": "ytnYLz1Nth-d",
      "metadata": {
        "collapsed": false,
        "id": "ytnYLz1Nth-d"
      },
      "source": [
        "### feature_names\n",
        "\n",
        "| variable name                | definition                                                             |\n",
        "|------------------------------|------------------------------------------------------------------------|\n",
        "| alcohol                      | alcohol concentration                                                  |\n",
        "| malic_acid                   | malic acid concentration                                               |\n",
        "| ash                          | ash concentration                                                      |\n",
        "| alcalinity_of_ash            | alkalinity of ash                                                      |\n",
        "| magnesium                    | amount of magnesium                                                    |\n",
        "| total_phenol                 | total amount of phenol                                                 |\n",
        "| flavanoids                   | amount of flavanoids                                                   |\n",
        "| nonflavanoid_phenols         | amount of non-flavanoid phenols                                        |\n",
        "| proanthocyanins              | amount of proanthocyanin                                               |\n",
        "| color_intensity              | color intensity                                                        |\n",
        "| hue                          | hue                                                                    |\n",
        "| od280/OD315_of_diluted wines | Turbidity of diluted wine to light at wavelengths of 280 nm and 315 nm |\n",
        "| proline                      | amount of proline                                                      |\n",
        "\n",
        "[Reference material](https://www.jstage.jst.go.jp/article/jbrewsocjapan1915/75/8/75_8_631/_pdf/-char/ja) on the taste and composition of wine"
      ]
    },
    {
      "cell_type": "markdown",
      "id": "laT6-nhOth-e",
      "metadata": {
        "collapsed": false,
        "id": "laT6-nhOth-e"
      },
      "source": [
        "### Import wine dataset\n",
        "\n",
        "Wine datasets are stored in the `sklearn.datasets` file `import` above.\n",
        "To load a dataset from `sklearn.datasets`, run the following code. [Ref](https://scikit-learn.org/stable/modules/generated/sklearn.datasets.load_wine.html)"
      ]
    },
    {
      "cell_type": "code",
      "execution_count": 89,
      "id": "cswu3SVCth-f",
      "metadata": {
        "ExecuteTime": {
          "end_time": "2024-02-05T00:11:24.177327Z",
          "start_time": "2024-02-05T00:11:24.175049Z"
        },
        "id": "cswu3SVCth-f"
      },
      "outputs": [],
      "source": [
        "wine_data = datasets.load_wine()"
      ]
    },
    {
      "cell_type": "markdown",
      "id": "WeH3p2Cjth-f",
      "metadata": {
        "collapsed": false,
        "id": "WeH3p2Cjth-f"
      },
      "source": [
        "Let's look at the actual contents of the loaded data.\n",
        "The `pprint` module, which is part of the `Python` standard library, allows you to display objects of type list, dictionary, etc. in a nicely formatted manner. [Ref](https://docs.python.org/3/library/pprint.html#module-pprint)"
      ]
    },
    {
      "cell_type": "code",
      "execution_count": 90,
      "id": "vFNdtkw_th-g",
      "metadata": {
        "ExecuteTime": {
          "end_time": "2024-02-05T00:11:24.182037Z",
          "start_time": "2024-02-05T00:11:24.179896Z"
        },
        "colab": {
          "base_uri": "https://localhost:8080/"
        },
        "id": "vFNdtkw_th-g",
        "outputId": "18eef293-b480-4599-9591-5c56ba7113c4"
      },
      "outputs": [
        {
          "name": "stdout",
          "output_type": "stream",
          "text": [
            "{'DESCR': '.. _wine_dataset:\\n'\n",
            "          '\\n'\n",
            "          'Wine recognition dataset\\n'\n",
            "          '------------------------\\n'\n",
            "          '\\n'\n",
            "          '**Data Set Characteristics:**\\n'\n",
            "          '\\n'\n",
            "          ':Number of Instances: 178\\n'\n",
            "          ':Number of Attributes: 13 numeric, predictive attributes and the '\n",
            "          'class\\n'\n",
            "          ':Attribute Information:\\n'\n",
            "          '    - Alcohol\\n'\n",
            "          '    - Malic acid\\n'\n",
            "          '    - Ash\\n'\n",
            "          '    - Alcalinity of ash\\n'\n",
            "          '    - Magnesium\\n'\n",
            "          '    - Total phenols\\n'\n",
            "          '    - Flavanoids\\n'\n",
            "          '    - Nonflavanoid phenols\\n'\n",
            "          '    - Proanthocyanins\\n'\n",
            "          '    - Color intensity\\n'\n",
            "          '    - Hue\\n'\n",
            "          '    - OD280/OD315 of diluted wines\\n'\n",
            "          '    - Proline\\n'\n",
            "          '    - class:\\n'\n",
            "          '        - class_0\\n'\n",
            "          '        - class_1\\n'\n",
            "          '        - class_2\\n'\n",
            "          '\\n'\n",
            "          ':Summary Statistics:\\n'\n",
            "          '\\n'\n",
            "          '============================= ==== ===== ======= =====\\n'\n",
            "          '                                Min   Max   Mean     SD\\n'\n",
            "          '============================= ==== ===== ======= =====\\n'\n",
            "          'Alcohol:                      11.0  14.8    13.0   0.8\\n'\n",
            "          'Malic Acid:                   0.74  5.80    2.34  1.12\\n'\n",
            "          'Ash:                          1.36  3.23    2.36  0.27\\n'\n",
            "          'Alcalinity of Ash:            10.6  30.0    19.5   3.3\\n'\n",
            "          'Magnesium:                    70.0 162.0    99.7  14.3\\n'\n",
            "          'Total Phenols:                0.98  3.88    2.29  0.63\\n'\n",
            "          'Flavanoids:                   0.34  5.08    2.03  1.00\\n'\n",
            "          'Nonflavanoid Phenols:         0.13  0.66    0.36  0.12\\n'\n",
            "          'Proanthocyanins:              0.41  3.58    1.59  0.57\\n'\n",
            "          'Colour Intensity:              1.3  13.0     5.1   2.3\\n'\n",
            "          'Hue:                          0.48  1.71    0.96  0.23\\n'\n",
            "          'OD280/OD315 of diluted wines: 1.27  4.00    2.61  0.71\\n'\n",
            "          'Proline:                       278  1680     746   315\\n'\n",
            "          '============================= ==== ===== ======= =====\\n'\n",
            "          '\\n'\n",
            "          ':Missing Attribute Values: None\\n'\n",
            "          ':Class Distribution: class_0 (59), class_1 (71), class_2 (48)\\n'\n",
            "          ':Creator: R.A. Fisher\\n'\n",
            "          ':Donor: Michael Marshall (MARSHALL%PLU@io.arc.nasa.gov)\\n'\n",
            "          ':Date: July, 1988\\n'\n",
            "          '\\n'\n",
            "          'This is a copy of UCI ML Wine recognition datasets.\\n'\n",
            "          'https://archive.ics.uci.edu/ml/machine-learning-databases/wine/wine.data\\n'\n",
            "          '\\n'\n",
            "          'The data is the results of a chemical analysis of wines grown in '\n",
            "          'the same\\n'\n",
            "          'region in Italy by three different cultivators. There are thirteen '\n",
            "          'different\\n'\n",
            "          'measurements taken for different constituents found in the three '\n",
            "          'types of\\n'\n",
            "          'wine.\\n'\n",
            "          '\\n'\n",
            "          'Original Owners:\\n'\n",
            "          '\\n'\n",
            "          'Forina, M. et al, PARVUS -\\n'\n",
            "          'An Extendible Package for Data Exploration, Classification and '\n",
            "          'Correlation.\\n'\n",
            "          'Institute of Pharmaceutical and Food Analysis and Technologies,\\n'\n",
            "          'Via Brigata Salerno, 16147 Genoa, Italy.\\n'\n",
            "          '\\n'\n",
            "          'Citation:\\n'\n",
            "          '\\n'\n",
            "          'Lichman, M. (2013). UCI Machine Learning Repository\\n'\n",
            "          '[https://archive.ics.uci.edu/ml]. Irvine, CA: University of '\n",
            "          'California,\\n'\n",
            "          'School of Information and Computer Science.\\n'\n",
            "          '\\n'\n",
            "          '.. dropdown:: References\\n'\n",
            "          '\\n'\n",
            "          '    (1) S. Aeberhard, D. Coomans and O. de Vel,\\n'\n",
            "          '    Comparison of Classifiers in High Dimensional Settings,\\n'\n",
            "          '    Tech. Rep. no. 92-02, (1992), Dept. of Computer Science and '\n",
            "          'Dept. of\\n'\n",
            "          '    Mathematics and Statistics, James Cook University of North '\n",
            "          'Queensland.\\n'\n",
            "          '    (Also submitted to Technometrics).\\n'\n",
            "          '\\n'\n",
            "          '    The data was used with many others for comparing various\\n'\n",
            "          '    classifiers. The classes are separable, though only RDA\\n'\n",
            "          '    has achieved 100% correct classification.\\n'\n",
            "          '    (RDA : 100%, QDA 99.4%, LDA 98.9%, 1NN 96.1% (z-transformed '\n",
            "          'data))\\n'\n",
            "          '    (All results using the leave-one-out technique)\\n'\n",
            "          '\\n'\n",
            "          '    (2) S. Aeberhard, D. Coomans and O. de Vel,\\n'\n",
            "          '    \"THE CLASSIFICATION PERFORMANCE OF RDA\"\\n'\n",
            "          '    Tech. Rep. no. 92-01, (1992), Dept. of Computer Science and '\n",
            "          'Dept. of\\n'\n",
            "          '    Mathematics and Statistics, James Cook University of North '\n",
            "          'Queensland.\\n'\n",
            "          '    (Also submitted to Journal of Chemometrics).\\n',\n",
            " 'data': array([[1.423e+01, 1.710e+00, 2.430e+00, ..., 1.040e+00, 3.920e+00,\n",
            "        1.065e+03],\n",
            "       [1.320e+01, 1.780e+00, 2.140e+00, ..., 1.050e+00, 3.400e+00,\n",
            "        1.050e+03],\n",
            "       [1.316e+01, 2.360e+00, 2.670e+00, ..., 1.030e+00, 3.170e+00,\n",
            "        1.185e+03],\n",
            "       ...,\n",
            "       [1.327e+01, 4.280e+00, 2.260e+00, ..., 5.900e-01, 1.560e+00,\n",
            "        8.350e+02],\n",
            "       [1.317e+01, 2.590e+00, 2.370e+00, ..., 6.000e-01, 1.620e+00,\n",
            "        8.400e+02],\n",
            "       [1.413e+01, 4.100e+00, 2.740e+00, ..., 6.100e-01, 1.600e+00,\n",
            "        5.600e+02]]),\n",
            " 'feature_names': ['alcohol',\n",
            "                   'malic_acid',\n",
            "                   'ash',\n",
            "                   'alcalinity_of_ash',\n",
            "                   'magnesium',\n",
            "                   'total_phenols',\n",
            "                   'flavanoids',\n",
            "                   'nonflavanoid_phenols',\n",
            "                   'proanthocyanins',\n",
            "                   'color_intensity',\n",
            "                   'hue',\n",
            "                   'od280/od315_of_diluted_wines',\n",
            "                   'proline'],\n",
            " 'frame': None,\n",
            " 'target': array([0, 0, 0, 0, 0, 0, 0, 0, 0, 0, 0, 0, 0, 0, 0, 0, 0, 0, 0, 0, 0, 0,\n",
            "       0, 0, 0, 0, 0, 0, 0, 0, 0, 0, 0, 0, 0, 0, 0, 0, 0, 0, 0, 0, 0, 0,\n",
            "       0, 0, 0, 0, 0, 0, 0, 0, 0, 0, 0, 0, 0, 0, 0, 1, 1, 1, 1, 1, 1, 1,\n",
            "       1, 1, 1, 1, 1, 1, 1, 1, 1, 1, 1, 1, 1, 1, 1, 1, 1, 1, 1, 1, 1, 1,\n",
            "       1, 1, 1, 1, 1, 1, 1, 1, 1, 1, 1, 1, 1, 1, 1, 1, 1, 1, 1, 1, 1, 1,\n",
            "       1, 1, 1, 1, 1, 1, 1, 1, 1, 1, 1, 1, 1, 1, 1, 1, 1, 1, 1, 1, 2, 2,\n",
            "       2, 2, 2, 2, 2, 2, 2, 2, 2, 2, 2, 2, 2, 2, 2, 2, 2, 2, 2, 2, 2, 2,\n",
            "       2, 2, 2, 2, 2, 2, 2, 2, 2, 2, 2, 2, 2, 2, 2, 2, 2, 2, 2, 2, 2, 2,\n",
            "       2, 2]),\n",
            " 'target_names': array(['class_0', 'class_1', 'class_2'], dtype='<U7')}\n"
          ]
        }
      ],
      "source": [
        "pprint.pprint(wine_data)"
      ]
    },
    {
      "cell_type": "markdown",
      "id": "T8v82EWhth-g",
      "metadata": {
        "collapsed": false,
        "id": "T8v82EWhth-g"
      },
      "source": [
        "You can see that the details of the Wine dataset, data, feature names, etc. are stored in a dictionary type."
      ]
    },
    {
      "cell_type": "markdown",
      "id": "1w4iL2kmth-h",
      "metadata": {
        "collapsed": false,
        "id": "1w4iL2kmth-h"
      },
      "source": [
        "### Problem 1-1\n",
        "\n",
        "Extract and output only `data` from the data set `wine_data` read above. (*Hints are [here](https://docs.python.org/3/tutorial/datastructures.html#dictionaries))"
      ]
    },
    {
      "cell_type": "code",
      "execution_count": 91,
      "id": "DggO6-Ieth-h",
      "metadata": {
        "ExecuteTime": {
          "end_time": "2024-02-05T00:11:24.183614Z",
          "start_time": "2024-02-05T00:11:24.182267Z"
        },
        "colab": {
          "base_uri": "https://localhost:8080/"
        },
        "id": "DggO6-Ieth-h",
        "outputId": "4acd9f53-74e1-4c8f-ffd6-2483530a5a15"
      },
      "outputs": [
        {
          "name": "stdout",
          "output_type": "stream",
          "text": [
            "[[1.423e+01 1.710e+00 2.430e+00 ... 1.040e+00 3.920e+00 1.065e+03]\n",
            " [1.320e+01 1.780e+00 2.140e+00 ... 1.050e+00 3.400e+00 1.050e+03]\n",
            " [1.316e+01 2.360e+00 2.670e+00 ... 1.030e+00 3.170e+00 1.185e+03]\n",
            " ...\n",
            " [1.327e+01 4.280e+00 2.260e+00 ... 5.900e-01 1.560e+00 8.350e+02]\n",
            " [1.317e+01 2.590e+00 2.370e+00 ... 6.000e-01 1.620e+00 8.400e+02]\n",
            " [1.413e+01 4.100e+00 2.740e+00 ... 6.100e-01 1.600e+00 5.600e+02]]\n"
          ]
        }
      ],
      "source": [
        "# ===== Please enter your answer code below. =====\n",
        "print(wine_data['data'])"
      ]
    },
    {
      "cell_type": "markdown",
      "id": "Lzrl0ql1th-i",
      "metadata": {
        "collapsed": false,
        "id": "Lzrl0ql1th-i"
      },
      "source": [
        "### Problem 1-2\n",
        "\n",
        "Convert the data read in problem 1-1 into a pandas dataframe. Then, use `wine_df` for the variable name and `wine_data.feature_names` for the column name. (*Hints are [here](https://pandas.pydata.org/docs/reference/api/pandas.DataFrame.html))"
      ]
    },
    {
      "cell_type": "code",
      "execution_count": 92,
      "id": "2SWapmunth-k",
      "metadata": {
        "ExecuteTime": {
          "end_time": "2024-02-05T00:11:24.185954Z",
          "start_time": "2024-02-05T00:11:24.184578Z"
        },
        "id": "2SWapmunth-k"
      },
      "outputs": [],
      "source": [
        "# ===== Please enter your answer code below. =====\n",
        "wine_df = pd.DataFrame(wine_data['data'], columns=wine_data['feature_names'])"
      ]
    },
    {
      "cell_type": "markdown",
      "id": "rkwg5jQhth-l",
      "metadata": {
        "collapsed": false,
        "id": "rkwg5jQhth-l"
      },
      "source": [
        "### Problem 1-3\n",
        "\n",
        "Show the first 10 rows of the `wine_df` converted in problem 1-2 in the Notebook. (*Hints are [here](https://pandas.pydata.org/docs/reference/api/pandas.DataFrame.head.html))"
      ]
    },
    {
      "cell_type": "code",
      "execution_count": 93,
      "id": "o9IzLiBJth-m",
      "metadata": {
        "ExecuteTime": {
          "end_time": "2024-02-05T00:11:24.187916Z",
          "start_time": "2024-02-05T00:11:24.186952Z"
        },
        "colab": {
          "base_uri": "https://localhost:8080/",
          "height": 383
        },
        "id": "o9IzLiBJth-m",
        "outputId": "06f54f08-53e3-41d6-b652-2c449a3eb83f"
      },
      "outputs": [
        {
          "data": {
            "text/html": [
              "<div>\n",
              "<style scoped>\n",
              "    .dataframe tbody tr th:only-of-type {\n",
              "        vertical-align: middle;\n",
              "    }\n",
              "\n",
              "    .dataframe tbody tr th {\n",
              "        vertical-align: top;\n",
              "    }\n",
              "\n",
              "    .dataframe thead th {\n",
              "        text-align: right;\n",
              "    }\n",
              "</style>\n",
              "<table border=\"1\" class=\"dataframe\">\n",
              "  <thead>\n",
              "    <tr style=\"text-align: right;\">\n",
              "      <th></th>\n",
              "      <th>alcohol</th>\n",
              "      <th>malic_acid</th>\n",
              "      <th>ash</th>\n",
              "      <th>alcalinity_of_ash</th>\n",
              "      <th>magnesium</th>\n",
              "      <th>total_phenols</th>\n",
              "      <th>flavanoids</th>\n",
              "      <th>nonflavanoid_phenols</th>\n",
              "      <th>proanthocyanins</th>\n",
              "      <th>color_intensity</th>\n",
              "      <th>hue</th>\n",
              "      <th>od280/od315_of_diluted_wines</th>\n",
              "      <th>proline</th>\n",
              "    </tr>\n",
              "  </thead>\n",
              "  <tbody>\n",
              "    <tr>\n",
              "      <th>0</th>\n",
              "      <td>14.23</td>\n",
              "      <td>1.71</td>\n",
              "      <td>2.43</td>\n",
              "      <td>15.6</td>\n",
              "      <td>127.0</td>\n",
              "      <td>2.80</td>\n",
              "      <td>3.06</td>\n",
              "      <td>0.28</td>\n",
              "      <td>2.29</td>\n",
              "      <td>5.64</td>\n",
              "      <td>1.04</td>\n",
              "      <td>3.92</td>\n",
              "      <td>1065.0</td>\n",
              "    </tr>\n",
              "    <tr>\n",
              "      <th>1</th>\n",
              "      <td>13.20</td>\n",
              "      <td>1.78</td>\n",
              "      <td>2.14</td>\n",
              "      <td>11.2</td>\n",
              "      <td>100.0</td>\n",
              "      <td>2.65</td>\n",
              "      <td>2.76</td>\n",
              "      <td>0.26</td>\n",
              "      <td>1.28</td>\n",
              "      <td>4.38</td>\n",
              "      <td>1.05</td>\n",
              "      <td>3.40</td>\n",
              "      <td>1050.0</td>\n",
              "    </tr>\n",
              "    <tr>\n",
              "      <th>2</th>\n",
              "      <td>13.16</td>\n",
              "      <td>2.36</td>\n",
              "      <td>2.67</td>\n",
              "      <td>18.6</td>\n",
              "      <td>101.0</td>\n",
              "      <td>2.80</td>\n",
              "      <td>3.24</td>\n",
              "      <td>0.30</td>\n",
              "      <td>2.81</td>\n",
              "      <td>5.68</td>\n",
              "      <td>1.03</td>\n",
              "      <td>3.17</td>\n",
              "      <td>1185.0</td>\n",
              "    </tr>\n",
              "    <tr>\n",
              "      <th>3</th>\n",
              "      <td>14.37</td>\n",
              "      <td>1.95</td>\n",
              "      <td>2.50</td>\n",
              "      <td>16.8</td>\n",
              "      <td>113.0</td>\n",
              "      <td>3.85</td>\n",
              "      <td>3.49</td>\n",
              "      <td>0.24</td>\n",
              "      <td>2.18</td>\n",
              "      <td>7.80</td>\n",
              "      <td>0.86</td>\n",
              "      <td>3.45</td>\n",
              "      <td>1480.0</td>\n",
              "    </tr>\n",
              "    <tr>\n",
              "      <th>4</th>\n",
              "      <td>13.24</td>\n",
              "      <td>2.59</td>\n",
              "      <td>2.87</td>\n",
              "      <td>21.0</td>\n",
              "      <td>118.0</td>\n",
              "      <td>2.80</td>\n",
              "      <td>2.69</td>\n",
              "      <td>0.39</td>\n",
              "      <td>1.82</td>\n",
              "      <td>4.32</td>\n",
              "      <td>1.04</td>\n",
              "      <td>2.93</td>\n",
              "      <td>735.0</td>\n",
              "    </tr>\n",
              "    <tr>\n",
              "      <th>5</th>\n",
              "      <td>14.20</td>\n",
              "      <td>1.76</td>\n",
              "      <td>2.45</td>\n",
              "      <td>15.2</td>\n",
              "      <td>112.0</td>\n",
              "      <td>3.27</td>\n",
              "      <td>3.39</td>\n",
              "      <td>0.34</td>\n",
              "      <td>1.97</td>\n",
              "      <td>6.75</td>\n",
              "      <td>1.05</td>\n",
              "      <td>2.85</td>\n",
              "      <td>1450.0</td>\n",
              "    </tr>\n",
              "    <tr>\n",
              "      <th>6</th>\n",
              "      <td>14.39</td>\n",
              "      <td>1.87</td>\n",
              "      <td>2.45</td>\n",
              "      <td>14.6</td>\n",
              "      <td>96.0</td>\n",
              "      <td>2.50</td>\n",
              "      <td>2.52</td>\n",
              "      <td>0.30</td>\n",
              "      <td>1.98</td>\n",
              "      <td>5.25</td>\n",
              "      <td>1.02</td>\n",
              "      <td>3.58</td>\n",
              "      <td>1290.0</td>\n",
              "    </tr>\n",
              "    <tr>\n",
              "      <th>7</th>\n",
              "      <td>14.06</td>\n",
              "      <td>2.15</td>\n",
              "      <td>2.61</td>\n",
              "      <td>17.6</td>\n",
              "      <td>121.0</td>\n",
              "      <td>2.60</td>\n",
              "      <td>2.51</td>\n",
              "      <td>0.31</td>\n",
              "      <td>1.25</td>\n",
              "      <td>5.05</td>\n",
              "      <td>1.06</td>\n",
              "      <td>3.58</td>\n",
              "      <td>1295.0</td>\n",
              "    </tr>\n",
              "    <tr>\n",
              "      <th>8</th>\n",
              "      <td>14.83</td>\n",
              "      <td>1.64</td>\n",
              "      <td>2.17</td>\n",
              "      <td>14.0</td>\n",
              "      <td>97.0</td>\n",
              "      <td>2.80</td>\n",
              "      <td>2.98</td>\n",
              "      <td>0.29</td>\n",
              "      <td>1.98</td>\n",
              "      <td>5.20</td>\n",
              "      <td>1.08</td>\n",
              "      <td>2.85</td>\n",
              "      <td>1045.0</td>\n",
              "    </tr>\n",
              "    <tr>\n",
              "      <th>9</th>\n",
              "      <td>13.86</td>\n",
              "      <td>1.35</td>\n",
              "      <td>2.27</td>\n",
              "      <td>16.0</td>\n",
              "      <td>98.0</td>\n",
              "      <td>2.98</td>\n",
              "      <td>3.15</td>\n",
              "      <td>0.22</td>\n",
              "      <td>1.85</td>\n",
              "      <td>7.22</td>\n",
              "      <td>1.01</td>\n",
              "      <td>3.55</td>\n",
              "      <td>1045.0</td>\n",
              "    </tr>\n",
              "  </tbody>\n",
              "</table>\n",
              "</div>"
            ],
            "text/plain": [
              "   alcohol  malic_acid   ash  alcalinity_of_ash  magnesium  total_phenols  \\\n",
              "0    14.23        1.71  2.43               15.6      127.0           2.80   \n",
              "1    13.20        1.78  2.14               11.2      100.0           2.65   \n",
              "2    13.16        2.36  2.67               18.6      101.0           2.80   \n",
              "3    14.37        1.95  2.50               16.8      113.0           3.85   \n",
              "4    13.24        2.59  2.87               21.0      118.0           2.80   \n",
              "5    14.20        1.76  2.45               15.2      112.0           3.27   \n",
              "6    14.39        1.87  2.45               14.6       96.0           2.50   \n",
              "7    14.06        2.15  2.61               17.6      121.0           2.60   \n",
              "8    14.83        1.64  2.17               14.0       97.0           2.80   \n",
              "9    13.86        1.35  2.27               16.0       98.0           2.98   \n",
              "\n",
              "   flavanoids  nonflavanoid_phenols  proanthocyanins  color_intensity   hue  \\\n",
              "0        3.06                  0.28             2.29             5.64  1.04   \n",
              "1        2.76                  0.26             1.28             4.38  1.05   \n",
              "2        3.24                  0.30             2.81             5.68  1.03   \n",
              "3        3.49                  0.24             2.18             7.80  0.86   \n",
              "4        2.69                  0.39             1.82             4.32  1.04   \n",
              "5        3.39                  0.34             1.97             6.75  1.05   \n",
              "6        2.52                  0.30             1.98             5.25  1.02   \n",
              "7        2.51                  0.31             1.25             5.05  1.06   \n",
              "8        2.98                  0.29             1.98             5.20  1.08   \n",
              "9        3.15                  0.22             1.85             7.22  1.01   \n",
              "\n",
              "   od280/od315_of_diluted_wines  proline  \n",
              "0                          3.92   1065.0  \n",
              "1                          3.40   1050.0  \n",
              "2                          3.17   1185.0  \n",
              "3                          3.45   1480.0  \n",
              "4                          2.93    735.0  \n",
              "5                          2.85   1450.0  \n",
              "6                          3.58   1290.0  \n",
              "7                          3.58   1295.0  \n",
              "8                          2.85   1045.0  \n",
              "9                          3.55   1045.0  "
            ]
          },
          "execution_count": 93,
          "metadata": {},
          "output_type": "execute_result"
        }
      ],
      "source": [
        "# ===== Please enter your answer code below. =====\n",
        "wine_df.head(10)"
      ]
    },
    {
      "cell_type": "markdown",
      "id": "4RBGPsCath-n",
      "metadata": {
        "collapsed": false,
        "id": "4RBGPsCath-n"
      },
      "source": [
        "### Problem 1-4\n",
        "\n",
        "Check the number of rows and columns in `wine_df`. (*Hints are [here](https://pandas.pydata.org/docs/reference/api/pandas.DataFrame.shape.html))"
      ]
    },
    {
      "cell_type": "code",
      "execution_count": 94,
      "id": "cgA6ySXzth-o",
      "metadata": {
        "ExecuteTime": {
          "end_time": "2024-02-05T00:11:24.189875Z",
          "start_time": "2024-02-05T00:11:24.188777Z"
        },
        "colab": {
          "base_uri": "https://localhost:8080/"
        },
        "id": "cgA6ySXzth-o",
        "outputId": "ffedc336-7ad7-40cd-d94a-c9d9bdd96637"
      },
      "outputs": [
        {
          "data": {
            "text/plain": [
              "(178, 13)"
            ]
          },
          "execution_count": 94,
          "metadata": {},
          "output_type": "execute_result"
        }
      ],
      "source": [
        "# ===== Please enter your answer code below. =====\n",
        "wine_df.shape"
      ]
    },
    {
      "cell_type": "markdown",
      "id": "W65W9NU4th-o",
      "metadata": {
        "collapsed": false,
        "id": "W65W9NU4th-o"
      },
      "source": [
        "### Problem 1-5\n",
        "\n",
        "Check the list of column names in `wine_df`. (*Hints are [here](https://pandas.pydata.org/docs/reference/api/pandas.DataFrame.columns.html))"
      ]
    },
    {
      "cell_type": "code",
      "execution_count": 95,
      "id": "6JaQnILRth-o",
      "metadata": {
        "ExecuteTime": {
          "end_time": "2024-02-05T00:11:24.194118Z",
          "start_time": "2024-02-05T00:11:24.192618Z"
        },
        "colab": {
          "base_uri": "https://localhost:8080/"
        },
        "id": "6JaQnILRth-o",
        "outputId": "26f4a901-310a-4f80-bfba-5fb38887dd22"
      },
      "outputs": [
        {
          "data": {
            "text/plain": [
              "Index(['alcohol', 'malic_acid', 'ash', 'alcalinity_of_ash', 'magnesium',\n",
              "       'total_phenols', 'flavanoids', 'nonflavanoid_phenols',\n",
              "       'proanthocyanins', 'color_intensity', 'hue',\n",
              "       'od280/od315_of_diluted_wines', 'proline'],\n",
              "      dtype='object')"
            ]
          },
          "execution_count": 95,
          "metadata": {},
          "output_type": "execute_result"
        }
      ],
      "source": [
        "# ===== Please enter your answer code below. =====\n",
        "wine_df.columns"
      ]
    },
    {
      "cell_type": "markdown",
      "id": "iBXbZ3Ljth-p",
      "metadata": {
        "collapsed": false,
        "id": "iBXbZ3Ljth-p"
      },
      "source": [
        "### Problem 1-6\n",
        "\n",
        "Extract the column `alcohol` from the `wine_df`."
      ]
    },
    {
      "cell_type": "code",
      "execution_count": 96,
      "id": "tiO8-qwyth-q",
      "metadata": {
        "ExecuteTime": {
          "end_time": "2024-02-05T00:11:24.232634Z",
          "start_time": "2024-02-05T00:11:24.194756Z"
        },
        "colab": {
          "base_uri": "https://localhost:8080/",
          "height": 458
        },
        "id": "tiO8-qwyth-q",
        "outputId": "08bd44aa-9a99-40ce-c0aa-555d7823b0b6"
      },
      "outputs": [
        {
          "data": {
            "text/plain": [
              "0      14.23\n",
              "1      13.20\n",
              "2      13.16\n",
              "3      14.37\n",
              "4      13.24\n",
              "       ...  \n",
              "173    13.71\n",
              "174    13.40\n",
              "175    13.27\n",
              "176    13.17\n",
              "177    14.13\n",
              "Name: alcohol, Length: 178, dtype: float64"
            ]
          },
          "execution_count": 96,
          "metadata": {},
          "output_type": "execute_result"
        }
      ],
      "source": [
        "# ===== Please enter your answer code below. =====\n",
        "wine_df['alcohol']"
      ]
    },
    {
      "cell_type": "markdown",
      "id": "5FLuCu9qth-q",
      "metadata": {
        "collapsed": false,
        "id": "5FLuCu9qth-q"
      },
      "source": [
        "### Problem 1-7\n",
        "\n",
        "Extract multiple columns `color_intensity` and `hue` from `wine_df`."
      ]
    },
    {
      "cell_type": "code",
      "execution_count": 97,
      "id": "KBE3eP8oth-r",
      "metadata": {
        "ExecuteTime": {
          "end_time": "2024-02-05T00:11:24.237470Z",
          "start_time": "2024-02-05T00:11:24.197164Z"
        },
        "colab": {
          "base_uri": "https://localhost:8080/",
          "height": 423
        },
        "id": "KBE3eP8oth-r",
        "outputId": "9fb0973c-287c-4fd3-f0f6-28379e9134a1"
      },
      "outputs": [
        {
          "data": {
            "text/html": [
              "<div>\n",
              "<style scoped>\n",
              "    .dataframe tbody tr th:only-of-type {\n",
              "        vertical-align: middle;\n",
              "    }\n",
              "\n",
              "    .dataframe tbody tr th {\n",
              "        vertical-align: top;\n",
              "    }\n",
              "\n",
              "    .dataframe thead th {\n",
              "        text-align: right;\n",
              "    }\n",
              "</style>\n",
              "<table border=\"1\" class=\"dataframe\">\n",
              "  <thead>\n",
              "    <tr style=\"text-align: right;\">\n",
              "      <th></th>\n",
              "      <th>color_intensity</th>\n",
              "      <th>hue</th>\n",
              "    </tr>\n",
              "  </thead>\n",
              "  <tbody>\n",
              "    <tr>\n",
              "      <th>0</th>\n",
              "      <td>5.64</td>\n",
              "      <td>1.04</td>\n",
              "    </tr>\n",
              "    <tr>\n",
              "      <th>1</th>\n",
              "      <td>4.38</td>\n",
              "      <td>1.05</td>\n",
              "    </tr>\n",
              "    <tr>\n",
              "      <th>2</th>\n",
              "      <td>5.68</td>\n",
              "      <td>1.03</td>\n",
              "    </tr>\n",
              "    <tr>\n",
              "      <th>3</th>\n",
              "      <td>7.80</td>\n",
              "      <td>0.86</td>\n",
              "    </tr>\n",
              "    <tr>\n",
              "      <th>4</th>\n",
              "      <td>4.32</td>\n",
              "      <td>1.04</td>\n",
              "    </tr>\n",
              "    <tr>\n",
              "      <th>...</th>\n",
              "      <td>...</td>\n",
              "      <td>...</td>\n",
              "    </tr>\n",
              "    <tr>\n",
              "      <th>173</th>\n",
              "      <td>7.70</td>\n",
              "      <td>0.64</td>\n",
              "    </tr>\n",
              "    <tr>\n",
              "      <th>174</th>\n",
              "      <td>7.30</td>\n",
              "      <td>0.70</td>\n",
              "    </tr>\n",
              "    <tr>\n",
              "      <th>175</th>\n",
              "      <td>10.20</td>\n",
              "      <td>0.59</td>\n",
              "    </tr>\n",
              "    <tr>\n",
              "      <th>176</th>\n",
              "      <td>9.30</td>\n",
              "      <td>0.60</td>\n",
              "    </tr>\n",
              "    <tr>\n",
              "      <th>177</th>\n",
              "      <td>9.20</td>\n",
              "      <td>0.61</td>\n",
              "    </tr>\n",
              "  </tbody>\n",
              "</table>\n",
              "<p>178 rows × 2 columns</p>\n",
              "</div>"
            ],
            "text/plain": [
              "     color_intensity   hue\n",
              "0               5.64  1.04\n",
              "1               4.38  1.05\n",
              "2               5.68  1.03\n",
              "3               7.80  0.86\n",
              "4               4.32  1.04\n",
              "..               ...   ...\n",
              "173             7.70  0.64\n",
              "174             7.30  0.70\n",
              "175            10.20  0.59\n",
              "176             9.30  0.60\n",
              "177             9.20  0.61\n",
              "\n",
              "[178 rows x 2 columns]"
            ]
          },
          "execution_count": 97,
          "metadata": {},
          "output_type": "execute_result"
        }
      ],
      "source": [
        "# ===== Please enter your answer code below. =====\n",
        "wine_df[['color_intensity', 'hue']]"
      ]
    },
    {
      "cell_type": "markdown",
      "id": "PkkLEEgYth-r",
      "metadata": {
        "collapsed": false,
        "id": "PkkLEEgYth-r"
      },
      "source": [
        "## Problem 2: Data handling\n",
        "\n",
        "Let's practice some handling on dataframes."
      ]
    },
    {
      "cell_type": "markdown",
      "id": "9nAGfZaXth-s",
      "metadata": {
        "collapsed": false,
        "id": "9nAGfZaXth-s"
      },
      "source": [
        "### Problem 2-1\n",
        "\n",
        "Extract rows from the `wine_df` with `magnesium` values greater than `100` and display them in the Notebook. (*Hints are [here](https://pandas.pydata.org/docs/reference/api/pandas.DataFrame.loc.html))\n",
        "\n",
        "Also, how many rows have `magnesium` values greater than or equal to `100`?"
      ]
    },
    {
      "cell_type": "code",
      "execution_count": 98,
      "id": "s9DSlcrzth-t",
      "metadata": {
        "ExecuteTime": {
          "end_time": "2024-02-05T00:11:24.237776Z",
          "start_time": "2024-02-05T00:11:24.199023Z"
        },
        "id": "s9DSlcrzth-t"
      },
      "outputs": [],
      "source": [
        "# ===== Please enter your answer code below. =====\n",
        "magnesium100_df = wine_df[wine_df['magnesium']>100]"
      ]
    },
    {
      "cell_type": "code",
      "execution_count": 99,
      "id": "7W3l8CARth-t",
      "metadata": {
        "ExecuteTime": {
          "end_time": "2024-02-05T00:11:24.237909Z",
          "start_time": "2024-02-05T00:11:24.201865Z"
        },
        "colab": {
          "base_uri": "https://localhost:8080/"
        },
        "id": "7W3l8CARth-t",
        "outputId": "f2e39bb6-d75a-4f74-89a2-ba74ba9496b9"
      },
      "outputs": [
        {
          "name": "stdout",
          "output_type": "stream",
          "text": [
            "No. of rows: 78\n"
          ]
        }
      ],
      "source": [
        "# ===== Please enter your answer code below. =====\n",
        "print(f\"No. of rows: {magnesium100_df.shape[0]}\")"
      ]
    },
    {
      "cell_type": "markdown",
      "id": "TPWCtR42th-u",
      "metadata": {
        "collapsed": false,
        "id": "TPWCtR42th-u"
      },
      "source": [
        "### Problem 2-2\n",
        "\n",
        "Sort the `wine_df` to `ash` values in descending order and display the top 10 rows in the Notebook. (*Hints are [here](https://pandas.pydata.org/docs/reference/api/pandas.DataFrame.sort_values.html))"
      ]
    },
    {
      "cell_type": "code",
      "execution_count": 100,
      "id": "a9mPBcWEth-v",
      "metadata": {
        "ExecuteTime": {
          "end_time": "2024-02-05T00:11:24.237983Z",
          "start_time": "2024-02-05T00:11:24.204418Z"
        },
        "colab": {
          "base_uri": "https://localhost:8080/",
          "height": 383
        },
        "id": "a9mPBcWEth-v",
        "outputId": "901c3eb5-5e32-4d66-cbf0-542b973cd693"
      },
      "outputs": [
        {
          "data": {
            "text/html": [
              "<div>\n",
              "<style scoped>\n",
              "    .dataframe tbody tr th:only-of-type {\n",
              "        vertical-align: middle;\n",
              "    }\n",
              "\n",
              "    .dataframe tbody tr th {\n",
              "        vertical-align: top;\n",
              "    }\n",
              "\n",
              "    .dataframe thead th {\n",
              "        text-align: right;\n",
              "    }\n",
              "</style>\n",
              "<table border=\"1\" class=\"dataframe\">\n",
              "  <thead>\n",
              "    <tr style=\"text-align: right;\">\n",
              "      <th></th>\n",
              "      <th>alcohol</th>\n",
              "      <th>malic_acid</th>\n",
              "      <th>ash</th>\n",
              "      <th>alcalinity_of_ash</th>\n",
              "      <th>magnesium</th>\n",
              "      <th>total_phenols</th>\n",
              "      <th>flavanoids</th>\n",
              "      <th>nonflavanoid_phenols</th>\n",
              "      <th>proanthocyanins</th>\n",
              "      <th>color_intensity</th>\n",
              "      <th>hue</th>\n",
              "      <th>od280/od315_of_diluted_wines</th>\n",
              "      <th>proline</th>\n",
              "    </tr>\n",
              "  </thead>\n",
              "  <tbody>\n",
              "    <tr>\n",
              "      <th>121</th>\n",
              "      <td>11.56</td>\n",
              "      <td>2.05</td>\n",
              "      <td>3.23</td>\n",
              "      <td>28.5</td>\n",
              "      <td>119.0</td>\n",
              "      <td>3.18</td>\n",
              "      <td>5.08</td>\n",
              "      <td>0.47</td>\n",
              "      <td>1.87</td>\n",
              "      <td>6.00</td>\n",
              "      <td>0.93</td>\n",
              "      <td>3.69</td>\n",
              "      <td>465.0</td>\n",
              "    </tr>\n",
              "    <tr>\n",
              "      <th>25</th>\n",
              "      <td>13.05</td>\n",
              "      <td>2.05</td>\n",
              "      <td>3.22</td>\n",
              "      <td>25.0</td>\n",
              "      <td>124.0</td>\n",
              "      <td>2.63</td>\n",
              "      <td>2.68</td>\n",
              "      <td>0.47</td>\n",
              "      <td>1.92</td>\n",
              "      <td>3.58</td>\n",
              "      <td>1.13</td>\n",
              "      <td>3.20</td>\n",
              "      <td>830.0</td>\n",
              "    </tr>\n",
              "    <tr>\n",
              "      <th>112</th>\n",
              "      <td>11.76</td>\n",
              "      <td>2.68</td>\n",
              "      <td>2.92</td>\n",
              "      <td>20.0</td>\n",
              "      <td>103.0</td>\n",
              "      <td>1.75</td>\n",
              "      <td>2.03</td>\n",
              "      <td>0.60</td>\n",
              "      <td>1.05</td>\n",
              "      <td>3.80</td>\n",
              "      <td>1.23</td>\n",
              "      <td>2.50</td>\n",
              "      <td>607.0</td>\n",
              "    </tr>\n",
              "    <tr>\n",
              "      <th>4</th>\n",
              "      <td>13.24</td>\n",
              "      <td>2.59</td>\n",
              "      <td>2.87</td>\n",
              "      <td>21.0</td>\n",
              "      <td>118.0</td>\n",
              "      <td>2.80</td>\n",
              "      <td>2.69</td>\n",
              "      <td>0.39</td>\n",
              "      <td>1.82</td>\n",
              "      <td>4.32</td>\n",
              "      <td>1.04</td>\n",
              "      <td>2.93</td>\n",
              "      <td>735.0</td>\n",
              "    </tr>\n",
              "    <tr>\n",
              "      <th>169</th>\n",
              "      <td>13.40</td>\n",
              "      <td>4.60</td>\n",
              "      <td>2.86</td>\n",
              "      <td>25.0</td>\n",
              "      <td>112.0</td>\n",
              "      <td>1.98</td>\n",
              "      <td>0.96</td>\n",
              "      <td>0.27</td>\n",
              "      <td>1.11</td>\n",
              "      <td>8.50</td>\n",
              "      <td>0.67</td>\n",
              "      <td>1.92</td>\n",
              "      <td>630.0</td>\n",
              "    </tr>\n",
              "    <tr>\n",
              "      <th>36</th>\n",
              "      <td>13.28</td>\n",
              "      <td>1.64</td>\n",
              "      <td>2.84</td>\n",
              "      <td>15.5</td>\n",
              "      <td>110.0</td>\n",
              "      <td>2.60</td>\n",
              "      <td>2.68</td>\n",
              "      <td>0.34</td>\n",
              "      <td>1.36</td>\n",
              "      <td>4.60</td>\n",
              "      <td>1.09</td>\n",
              "      <td>2.78</td>\n",
              "      <td>880.0</td>\n",
              "    </tr>\n",
              "    <tr>\n",
              "      <th>28</th>\n",
              "      <td>13.87</td>\n",
              "      <td>1.90</td>\n",
              "      <td>2.80</td>\n",
              "      <td>19.4</td>\n",
              "      <td>107.0</td>\n",
              "      <td>2.95</td>\n",
              "      <td>2.97</td>\n",
              "      <td>0.37</td>\n",
              "      <td>1.76</td>\n",
              "      <td>4.50</td>\n",
              "      <td>1.25</td>\n",
              "      <td>3.40</td>\n",
              "      <td>915.0</td>\n",
              "    </tr>\n",
              "    <tr>\n",
              "      <th>127</th>\n",
              "      <td>11.79</td>\n",
              "      <td>2.13</td>\n",
              "      <td>2.78</td>\n",
              "      <td>28.5</td>\n",
              "      <td>92.0</td>\n",
              "      <td>2.13</td>\n",
              "      <td>2.24</td>\n",
              "      <td>0.58</td>\n",
              "      <td>1.76</td>\n",
              "      <td>3.00</td>\n",
              "      <td>0.97</td>\n",
              "      <td>2.44</td>\n",
              "      <td>466.0</td>\n",
              "    </tr>\n",
              "    <tr>\n",
              "      <th>152</th>\n",
              "      <td>13.11</td>\n",
              "      <td>1.90</td>\n",
              "      <td>2.75</td>\n",
              "      <td>25.5</td>\n",
              "      <td>116.0</td>\n",
              "      <td>2.20</td>\n",
              "      <td>1.28</td>\n",
              "      <td>0.26</td>\n",
              "      <td>1.56</td>\n",
              "      <td>7.10</td>\n",
              "      <td>0.61</td>\n",
              "      <td>1.33</td>\n",
              "      <td>425.0</td>\n",
              "    </tr>\n",
              "    <tr>\n",
              "      <th>177</th>\n",
              "      <td>14.13</td>\n",
              "      <td>4.10</td>\n",
              "      <td>2.74</td>\n",
              "      <td>24.5</td>\n",
              "      <td>96.0</td>\n",
              "      <td>2.05</td>\n",
              "      <td>0.76</td>\n",
              "      <td>0.56</td>\n",
              "      <td>1.35</td>\n",
              "      <td>9.20</td>\n",
              "      <td>0.61</td>\n",
              "      <td>1.60</td>\n",
              "      <td>560.0</td>\n",
              "    </tr>\n",
              "  </tbody>\n",
              "</table>\n",
              "</div>"
            ],
            "text/plain": [
              "     alcohol  malic_acid   ash  alcalinity_of_ash  magnesium  total_phenols  \\\n",
              "121    11.56        2.05  3.23               28.5      119.0           3.18   \n",
              "25     13.05        2.05  3.22               25.0      124.0           2.63   \n",
              "112    11.76        2.68  2.92               20.0      103.0           1.75   \n",
              "4      13.24        2.59  2.87               21.0      118.0           2.80   \n",
              "169    13.40        4.60  2.86               25.0      112.0           1.98   \n",
              "36     13.28        1.64  2.84               15.5      110.0           2.60   \n",
              "28     13.87        1.90  2.80               19.4      107.0           2.95   \n",
              "127    11.79        2.13  2.78               28.5       92.0           2.13   \n",
              "152    13.11        1.90  2.75               25.5      116.0           2.20   \n",
              "177    14.13        4.10  2.74               24.5       96.0           2.05   \n",
              "\n",
              "     flavanoids  nonflavanoid_phenols  proanthocyanins  color_intensity   hue  \\\n",
              "121        5.08                  0.47             1.87             6.00  0.93   \n",
              "25         2.68                  0.47             1.92             3.58  1.13   \n",
              "112        2.03                  0.60             1.05             3.80  1.23   \n",
              "4          2.69                  0.39             1.82             4.32  1.04   \n",
              "169        0.96                  0.27             1.11             8.50  0.67   \n",
              "36         2.68                  0.34             1.36             4.60  1.09   \n",
              "28         2.97                  0.37             1.76             4.50  1.25   \n",
              "127        2.24                  0.58             1.76             3.00  0.97   \n",
              "152        1.28                  0.26             1.56             7.10  0.61   \n",
              "177        0.76                  0.56             1.35             9.20  0.61   \n",
              "\n",
              "     od280/od315_of_diluted_wines  proline  \n",
              "121                          3.69    465.0  \n",
              "25                           3.20    830.0  \n",
              "112                          2.50    607.0  \n",
              "4                            2.93    735.0  \n",
              "169                          1.92    630.0  \n",
              "36                           2.78    880.0  \n",
              "28                           3.40    915.0  \n",
              "127                          2.44    466.0  \n",
              "152                          1.33    425.0  \n",
              "177                          1.60    560.0  "
            ]
          },
          "execution_count": 100,
          "metadata": {},
          "output_type": "execute_result"
        }
      ],
      "source": [
        "# ===== Please enter your answer code below. =====\n",
        "sorted_wine_df = wine_df.sort_values(by='ash', ascending=False)\n",
        "sorted_wine_df.head(10)"
      ]
    },
    {
      "cell_type": "markdown",
      "id": "qMKG6G5Vth-v",
      "metadata": {
        "collapsed": false,
        "id": "qMKG6G5Vth-v"
      },
      "source": [
        "### Problem 2-3\n",
        "\n",
        "Divide the `wine_df` into groups by `target` i.e. wine type and calculate the average value of `flavanoids`. (*Hints are [here](https://pandas.pydata.org/docs/reference/api/pandas.DataFrame.groupby.html))\n",
        "\n",
        "What is the target with the smallest average as a result?"
      ]
    },
    {
      "cell_type": "code",
      "execution_count": 101,
      "id": "9CBkZLhhth-w",
      "metadata": {
        "ExecuteTime": {
          "end_time": "2024-01-30T09:43:30.575884Z",
          "start_time": "2024-01-30T09:43:30.571334Z"
        },
        "colab": {
          "base_uri": "https://localhost:8080/"
        },
        "id": "9CBkZLhhth-w",
        "outputId": "12eca27e-77d5-4fe8-b6ed-b8d51b620aa3"
      },
      "outputs": [
        {
          "name": "stdout",
          "output_type": "stream",
          "text": [
            "target\n",
            "0    2.982373\n",
            "1    2.080845\n",
            "2    0.781458\n",
            "Name: flavanoids, dtype: float64\n"
          ]
        }
      ],
      "source": [
        "# Add new column, target, into wine_df.\n",
        "wine_df['target'] = pd.DataFrame(wine_data.target)\n",
        "\n",
        "# ===== Please enter your answer code below. =====\n",
        "flavanoids_mean = wine_df.groupby('target')['flavanoids'].mean()\n",
        "\n",
        "# ===== Please enter your answer code below. =====\n",
        "print(flavanoids_mean)"
      ]
    },
    {
      "cell_type": "code",
      "execution_count": 102,
      "id": "EGbm8QZZth-y",
      "metadata": {
        "ExecuteTime": {
          "end_time": "2024-01-30T09:43:30.577368Z",
          "start_time": "2024-01-30T09:43:30.574242Z"
        },
        "colab": {
          "base_uri": "https://localhost:8080/"
        },
        "id": "EGbm8QZZth-y",
        "outputId": "01da11d3-4d9c-4d72-e951-e14bf5c9b7b5"
      },
      "outputs": [
        {
          "name": "stdout",
          "output_type": "stream",
          "text": [
            "Target with smallest average: 2\n"
          ]
        }
      ],
      "source": [
        "# ===== Please enter your answer code below. =====\n",
        "print(f\"Target with smallest average: {flavanoids_mean.idxmin()}\")"
      ]
    },
    {
      "cell_type": "markdown",
      "id": "lXOdX2ZZth-z",
      "metadata": {
        "collapsed": false,
        "id": "lXOdX2ZZth-z"
      },
      "source": [
        "### Problem 2-4\n",
        "\n",
        "For column `alcohol` in `wine_df`, create a new function `is_alcohol_high`\n",
        "\n",
        "`1` for `alcohol` >= 13%,\n",
        "`0` for `alcohol` < 13%.\n",
        "\n",
        "(*Hints are [here](https://pandas.pydata.org/docs/reference/api/pandas.DataFrame.apply.html))\n",
        "\n",
        "Once created, check the results by outputting the bottom 10 rows."
      ]
    },
    {
      "cell_type": "code",
      "execution_count": 103,
      "id": "5E7ei2uhth-z",
      "metadata": {
        "ExecuteTime": {
          "end_time": "2024-01-30T09:43:30.585788Z",
          "start_time": "2024-01-30T09:43:30.583478Z"
        },
        "id": "5E7ei2uhth-z"
      },
      "outputs": [],
      "source": [
        "# ===== Please enter your answer code below. =====\n",
        "def is_alcohol_high(alcohol):\n",
        "  return 1 if alcohol >= 13 else 0"
      ]
    },
    {
      "cell_type": "code",
      "execution_count": 104,
      "id": "QO6wVRkoth-0",
      "metadata": {
        "colab": {
          "base_uri": "https://localhost:8080/",
          "height": 383
        },
        "id": "QO6wVRkoth-0",
        "outputId": "8605bad9-beca-40a5-e5ed-41daa2cb05b0"
      },
      "outputs": [
        {
          "data": {
            "text/html": [
              "<div>\n",
              "<style scoped>\n",
              "    .dataframe tbody tr th:only-of-type {\n",
              "        vertical-align: middle;\n",
              "    }\n",
              "\n",
              "    .dataframe tbody tr th {\n",
              "        vertical-align: top;\n",
              "    }\n",
              "\n",
              "    .dataframe thead th {\n",
              "        text-align: right;\n",
              "    }\n",
              "</style>\n",
              "<table border=\"1\" class=\"dataframe\">\n",
              "  <thead>\n",
              "    <tr style=\"text-align: right;\">\n",
              "      <th></th>\n",
              "      <th>alcohol</th>\n",
              "      <th>malic_acid</th>\n",
              "      <th>ash</th>\n",
              "      <th>alcalinity_of_ash</th>\n",
              "      <th>magnesium</th>\n",
              "      <th>total_phenols</th>\n",
              "      <th>flavanoids</th>\n",
              "      <th>nonflavanoid_phenols</th>\n",
              "      <th>proanthocyanins</th>\n",
              "      <th>color_intensity</th>\n",
              "      <th>hue</th>\n",
              "      <th>od280/od315_of_diluted_wines</th>\n",
              "      <th>proline</th>\n",
              "      <th>target</th>\n",
              "    </tr>\n",
              "  </thead>\n",
              "  <tbody>\n",
              "    <tr>\n",
              "      <th>168</th>\n",
              "      <td>13.58</td>\n",
              "      <td>2.58</td>\n",
              "      <td>2.69</td>\n",
              "      <td>24.5</td>\n",
              "      <td>105.0</td>\n",
              "      <td>1.55</td>\n",
              "      <td>0.84</td>\n",
              "      <td>0.39</td>\n",
              "      <td>1.54</td>\n",
              "      <td>8.660000</td>\n",
              "      <td>0.74</td>\n",
              "      <td>1.80</td>\n",
              "      <td>750.0</td>\n",
              "      <td>2</td>\n",
              "    </tr>\n",
              "    <tr>\n",
              "      <th>169</th>\n",
              "      <td>13.40</td>\n",
              "      <td>4.60</td>\n",
              "      <td>2.86</td>\n",
              "      <td>25.0</td>\n",
              "      <td>112.0</td>\n",
              "      <td>1.98</td>\n",
              "      <td>0.96</td>\n",
              "      <td>0.27</td>\n",
              "      <td>1.11</td>\n",
              "      <td>8.500000</td>\n",
              "      <td>0.67</td>\n",
              "      <td>1.92</td>\n",
              "      <td>630.0</td>\n",
              "      <td>2</td>\n",
              "    </tr>\n",
              "    <tr>\n",
              "      <th>170</th>\n",
              "      <td>12.20</td>\n",
              "      <td>3.03</td>\n",
              "      <td>2.32</td>\n",
              "      <td>19.0</td>\n",
              "      <td>96.0</td>\n",
              "      <td>1.25</td>\n",
              "      <td>0.49</td>\n",
              "      <td>0.40</td>\n",
              "      <td>0.73</td>\n",
              "      <td>5.500000</td>\n",
              "      <td>0.66</td>\n",
              "      <td>1.83</td>\n",
              "      <td>510.0</td>\n",
              "      <td>2</td>\n",
              "    </tr>\n",
              "    <tr>\n",
              "      <th>171</th>\n",
              "      <td>12.77</td>\n",
              "      <td>2.39</td>\n",
              "      <td>2.28</td>\n",
              "      <td>19.5</td>\n",
              "      <td>86.0</td>\n",
              "      <td>1.39</td>\n",
              "      <td>0.51</td>\n",
              "      <td>0.48</td>\n",
              "      <td>0.64</td>\n",
              "      <td>9.899999</td>\n",
              "      <td>0.57</td>\n",
              "      <td>1.63</td>\n",
              "      <td>470.0</td>\n",
              "      <td>2</td>\n",
              "    </tr>\n",
              "    <tr>\n",
              "      <th>172</th>\n",
              "      <td>14.16</td>\n",
              "      <td>2.51</td>\n",
              "      <td>2.48</td>\n",
              "      <td>20.0</td>\n",
              "      <td>91.0</td>\n",
              "      <td>1.68</td>\n",
              "      <td>0.70</td>\n",
              "      <td>0.44</td>\n",
              "      <td>1.24</td>\n",
              "      <td>9.700000</td>\n",
              "      <td>0.62</td>\n",
              "      <td>1.71</td>\n",
              "      <td>660.0</td>\n",
              "      <td>2</td>\n",
              "    </tr>\n",
              "    <tr>\n",
              "      <th>173</th>\n",
              "      <td>13.71</td>\n",
              "      <td>5.65</td>\n",
              "      <td>2.45</td>\n",
              "      <td>20.5</td>\n",
              "      <td>95.0</td>\n",
              "      <td>1.68</td>\n",
              "      <td>0.61</td>\n",
              "      <td>0.52</td>\n",
              "      <td>1.06</td>\n",
              "      <td>7.700000</td>\n",
              "      <td>0.64</td>\n",
              "      <td>1.74</td>\n",
              "      <td>740.0</td>\n",
              "      <td>2</td>\n",
              "    </tr>\n",
              "    <tr>\n",
              "      <th>174</th>\n",
              "      <td>13.40</td>\n",
              "      <td>3.91</td>\n",
              "      <td>2.48</td>\n",
              "      <td>23.0</td>\n",
              "      <td>102.0</td>\n",
              "      <td>1.80</td>\n",
              "      <td>0.75</td>\n",
              "      <td>0.43</td>\n",
              "      <td>1.41</td>\n",
              "      <td>7.300000</td>\n",
              "      <td>0.70</td>\n",
              "      <td>1.56</td>\n",
              "      <td>750.0</td>\n",
              "      <td>2</td>\n",
              "    </tr>\n",
              "    <tr>\n",
              "      <th>175</th>\n",
              "      <td>13.27</td>\n",
              "      <td>4.28</td>\n",
              "      <td>2.26</td>\n",
              "      <td>20.0</td>\n",
              "      <td>120.0</td>\n",
              "      <td>1.59</td>\n",
              "      <td>0.69</td>\n",
              "      <td>0.43</td>\n",
              "      <td>1.35</td>\n",
              "      <td>10.200000</td>\n",
              "      <td>0.59</td>\n",
              "      <td>1.56</td>\n",
              "      <td>835.0</td>\n",
              "      <td>2</td>\n",
              "    </tr>\n",
              "    <tr>\n",
              "      <th>176</th>\n",
              "      <td>13.17</td>\n",
              "      <td>2.59</td>\n",
              "      <td>2.37</td>\n",
              "      <td>20.0</td>\n",
              "      <td>120.0</td>\n",
              "      <td>1.65</td>\n",
              "      <td>0.68</td>\n",
              "      <td>0.53</td>\n",
              "      <td>1.46</td>\n",
              "      <td>9.300000</td>\n",
              "      <td>0.60</td>\n",
              "      <td>1.62</td>\n",
              "      <td>840.0</td>\n",
              "      <td>2</td>\n",
              "    </tr>\n",
              "    <tr>\n",
              "      <th>177</th>\n",
              "      <td>14.13</td>\n",
              "      <td>4.10</td>\n",
              "      <td>2.74</td>\n",
              "      <td>24.5</td>\n",
              "      <td>96.0</td>\n",
              "      <td>2.05</td>\n",
              "      <td>0.76</td>\n",
              "      <td>0.56</td>\n",
              "      <td>1.35</td>\n",
              "      <td>9.200000</td>\n",
              "      <td>0.61</td>\n",
              "      <td>1.60</td>\n",
              "      <td>560.0</td>\n",
              "      <td>2</td>\n",
              "    </tr>\n",
              "  </tbody>\n",
              "</table>\n",
              "</div>"
            ],
            "text/plain": [
              "     alcohol  malic_acid   ash  alcalinity_of_ash  magnesium  total_phenols  \\\n",
              "168    13.58        2.58  2.69               24.5      105.0           1.55   \n",
              "169    13.40        4.60  2.86               25.0      112.0           1.98   \n",
              "170    12.20        3.03  2.32               19.0       96.0           1.25   \n",
              "171    12.77        2.39  2.28               19.5       86.0           1.39   \n",
              "172    14.16        2.51  2.48               20.0       91.0           1.68   \n",
              "173    13.71        5.65  2.45               20.5       95.0           1.68   \n",
              "174    13.40        3.91  2.48               23.0      102.0           1.80   \n",
              "175    13.27        4.28  2.26               20.0      120.0           1.59   \n",
              "176    13.17        2.59  2.37               20.0      120.0           1.65   \n",
              "177    14.13        4.10  2.74               24.5       96.0           2.05   \n",
              "\n",
              "     flavanoids  nonflavanoid_phenols  proanthocyanins  color_intensity   hue  \\\n",
              "168        0.84                  0.39             1.54         8.660000  0.74   \n",
              "169        0.96                  0.27             1.11         8.500000  0.67   \n",
              "170        0.49                  0.40             0.73         5.500000  0.66   \n",
              "171        0.51                  0.48             0.64         9.899999  0.57   \n",
              "172        0.70                  0.44             1.24         9.700000  0.62   \n",
              "173        0.61                  0.52             1.06         7.700000  0.64   \n",
              "174        0.75                  0.43             1.41         7.300000  0.70   \n",
              "175        0.69                  0.43             1.35        10.200000  0.59   \n",
              "176        0.68                  0.53             1.46         9.300000  0.60   \n",
              "177        0.76                  0.56             1.35         9.200000  0.61   \n",
              "\n",
              "     od280/od315_of_diluted_wines  proline  target  \n",
              "168                          1.80    750.0       2  \n",
              "169                          1.92    630.0       2  \n",
              "170                          1.83    510.0       2  \n",
              "171                          1.63    470.0       2  \n",
              "172                          1.71    660.0       2  \n",
              "173                          1.74    740.0       2  \n",
              "174                          1.56    750.0       2  \n",
              "175                          1.56    835.0       2  \n",
              "176                          1.62    840.0       2  \n",
              "177                          1.60    560.0       2  "
            ]
          },
          "execution_count": 104,
          "metadata": {},
          "output_type": "execute_result"
        }
      ],
      "source": [
        "# ===== Please enter your answer code below. =====\n",
        "wine_df.tail(10)"
      ]
    },
    {
      "cell_type": "markdown",
      "id": "tADKJi5Vth-0",
      "metadata": {
        "collapsed": false,
        "id": "tADKJi5Vth-0"
      },
      "source": [
        "## Problem 3: Statistical analysis\n",
        "\n",
        "Perform a statistical analysis on the data you have created."
      ]
    },
    {
      "cell_type": "markdown",
      "id": "PH97DnxGth-2",
      "metadata": {
        "collapsed": false,
        "id": "PH97DnxGth-2"
      },
      "source": [
        "### Problem 3-1\n",
        "\n",
        "Use the `describe` method of the dataframe to check various statistics for numerical data. (*Hints are [here](https://pandas.pydata.org/docs/reference/api/pandas.DataFrame.describe.html))\n",
        "\n",
        "Which of the features has the largest standard deviation?"
      ]
    },
    {
      "cell_type": "code",
      "execution_count": 105,
      "id": "EbxA_QIXth-3",
      "metadata": {
        "ExecuteTime": {
          "end_time": "2024-01-30T09:43:30.726339Z",
          "start_time": "2024-01-30T09:43:30.587748Z"
        },
        "id": "EbxA_QIXth-3"
      },
      "outputs": [],
      "source": [
        "# ===== Please enter your answer code below. =====\n",
        "stat = wine_df.describe()\n",
        "largest_std_feature = stat.loc[\"std\"].idxmax()"
      ]
    },
    {
      "cell_type": "code",
      "execution_count": 106,
      "id": "xh1apCfkth-4",
      "metadata": {
        "ExecuteTime": {
          "end_time": "2024-01-30T09:43:30.726480Z",
          "start_time": "2024-01-30T09:43:30.599879Z"
        },
        "colab": {
          "base_uri": "https://localhost:8080/"
        },
        "id": "xh1apCfkth-4",
        "outputId": "ec1bc5ae-c89f-4a29-fb12-395f8b721190"
      },
      "outputs": [
        {
          "name": "stdout",
          "output_type": "stream",
          "text": [
            "Feature with the largest standard deviation: proline\n"
          ]
        }
      ],
      "source": [
        "# ===== Please enter your answer code below. =====\n",
        "print(f\"Feature with the largest standard deviation: {largest_std_feature}\")"
      ]
    },
    {
      "cell_type": "markdown",
      "id": "gIux3QTOth-5",
      "metadata": {
        "collapsed": false,
        "id": "gIux3QTOth-5"
      },
      "source": [
        "### Problem 3-2\n",
        "\n",
        "Use the `plot.hist` method of the dataframe to visualize the distribution of the `proline`. (*Hints are [here](https://pandas.pydata.org/docs/reference/api/pandas.DataFrame.plot.hist.html))"
      ]
    },
    {
      "cell_type": "code",
      "execution_count": 107,
      "id": "BzhoGWKlth-5",
      "metadata": {
        "ExecuteTime": {
          "end_time": "2024-01-30T09:43:30.903865Z",
          "start_time": "2024-01-30T09:43:30.610072Z"
        },
        "colab": {
          "base_uri": "https://localhost:8080/",
          "height": 470
        },
        "id": "BzhoGWKlth-5",
        "outputId": "b849f28b-d082-4c52-d469-689b564e5241"
      },
      "outputs": [
        {
          "data": {
            "image/png": "[encoded data removed]",
            "text/plain": [
              "<Figure size 640x480 with 1 Axes>"
            ]
          },
          "metadata": {},
          "output_type": "display_data"
        }
      ],
      "source": [
        "# ===== Please enter your answer code below. =====\n",
        "wine_df[\"proline\"].plot.hist(title=\"Proline Distribution\")\n",
        "plt.show()"
      ]
    },
    {
      "cell_type": "markdown",
      "id": "XPpAY8nith-5",
      "metadata": {
        "collapsed": false,
        "id": "XPpAY8nith-5"
      },
      "source": [
        "### Problem 3-3\n",
        "\n",
        "Use the `plot.scatter` method of the dataframe to visualize the distribution of `total_phenols`, `flavanoids`. (*Hints are [here](https://pandas.pydata.org/docs/reference/api/pandas.DataFrame.plot.scatter.html))\n",
        "\n",
        "What do you think you can say as a result of visualization?"
      ]
    },
    {
      "cell_type": "code",
      "execution_count": 108,
      "id": "pMaF4O23th-6",
      "metadata": {
        "ExecuteTime": {
          "end_time": "2024-01-30T09:43:31.033982Z",
          "start_time": "2024-01-30T09:43:30.783235Z"
        },
        "colab": {
          "base_uri": "https://localhost:8080/",
          "height": 490
        },
        "id": "pMaF4O23th-6",
        "outputId": "ae220285-74d3-4a71-851a-4f7d1358983b"
      },
      "outputs": [
        {
          "data": {
            "image/png": "[encoded data removed]",
            "text/plain": [
              "<Figure size 640x480 with 1 Axes>"
            ]
          },
          "metadata": {},
          "output_type": "display_data"
        }
      ],
      "source": [
        "# ===== Please enter your answer code below. =====\n",
        "wine_df.plot.scatter(x=\"total_phenols\", y=\"flavanoids\", title=\"Distribution of Total Phenols and Flavanoids\")\n",
        "plt.show()"
      ]
    },
    {
      "cell_type": "code",
      "execution_count": 109,
      "id": "xI_LioHlth-6",
      "metadata": {
        "ExecuteTime": {
          "end_time": "2024-01-30T09:43:31.038417Z",
          "start_time": "2024-01-30T09:43:30.939726Z"
        },
        "colab": {
          "base_uri": "https://localhost:8080/"
        },
        "id": "xI_LioHlth-6",
        "outputId": "3685bddf-bc97-43e3-e3f3-4c2bcb0976d3"
      },
      "outputs": [
        {
          "name": "stdout",
          "output_type": "stream",
          "text": [
            "Total Phenols and Flavanoids has a positive correlation relationship.\n"
          ]
        }
      ],
      "source": [
        "# ===== Please enter your answer code below. =====\n",
        "print(\"Total Phenols and Flavanoids has a positive correlation relationship.\")"
      ]
    },
    {
      "cell_type": "markdown",
      "id": "hwKhCqAYth-7",
      "metadata": {
        "collapsed": false,
        "id": "hwKhCqAYth-7"
      },
      "source": [
        "### Problem 3-4\n",
        "\n",
        "Use the `corr` method of the dataframe to compute the correlation coefficient for `total_phenols`, `flavanoids`. (*Hints are [here](https://pandas.pydata.org/docs/reference/api/pandas.DataFrame.corr.html))"
      ]
    },
    {
      "cell_type": "code",
      "execution_count": 110,
      "id": "AaxLXwyEth-7",
      "metadata": {
        "ExecuteTime": {
          "end_time": "2024-01-30T09:43:31.038667Z",
          "start_time": "2024-01-30T09:43:30.946018Z"
        },
        "id": "AaxLXwyEth-7"
      },
      "outputs": [
        {
          "name": "stdout",
          "output_type": "stream",
          "text": [
            "               total_phenols  flavanoids\n",
            "total_phenols       1.000000    0.864564\n",
            "flavanoids          0.864564    1.000000\n"
          ]
        }
      ],
      "source": [
        "# ===== Please enter your answer code below. =====\n",
        "correlation = wine_df[[\"total_phenols\", \"flavanoids\"]].corr()\n",
        "print(correlation)"
      ]
    },
    {
      "cell_type": "markdown",
      "id": "b8dZGkGWth-8",
      "metadata": {
        "collapsed": false,
        "id": "b8dZGkGWth-8"
      },
      "source": [
        "### Problem 4: Exploratory data analysis（EDA）\n",
        "\n",
        "EDA and identify features and trends in the data."
      ]
    },
    {
      "cell_type": "markdown",
      "id": "STXsbwogth-8",
      "metadata": {
        "collapsed": false,
        "id": "STXsbwogth-8"
      },
      "source": [
        "### Problem 4-1\n",
        "\n",
        "Calculate the average of the feature values for each wine type `target`.\n",
        "Select two features that differ for each wine type `target`."
      ]
    },
    {
      "cell_type": "code",
      "execution_count": 111,
      "id": "n2zH6WVfth-9",
      "metadata": {
        "ExecuteTime": {
          "end_time": "2024-01-30T09:43:31.038745Z",
          "start_time": "2024-01-30T09:43:30.955579Z"
        },
        "id": "n2zH6WVfth-9"
      },
      "outputs": [],
      "source": [
        "# ===== Please enter your answer code below. =====\n",
        "avg_features = wine_df.groupby(\"target\").mean()"
      ]
    },
    {
      "cell_type": "code",
      "execution_count": 112,
      "id": "gmLgsFtdth--",
      "metadata": {
        "ExecuteTime": {
          "end_time": "2024-01-30T09:43:31.038809Z",
          "start_time": "2024-01-30T09:43:30.960252Z"
        },
        "colab": {
          "base_uri": "https://localhost:8080/"
        },
        "id": "gmLgsFtdth--",
        "outputId": "5ecaaa33-e644-4c64-f69e-36beeb14fc1d"
      },
      "outputs": [
        {
          "name": "stdout",
          "output_type": "stream",
          "text": [
            "          alcohol  malic_acid       ash  alcalinity_of_ash   magnesium  \\\n",
            "target                                                                   \n",
            "0       13.744746    2.010678  2.455593          17.037288  106.338983   \n",
            "1       12.278732    1.932676  2.244789          20.238028   94.549296   \n",
            "2       13.153750    3.333750  2.437083          21.416667   99.312500   \n",
            "\n",
            "        total_phenols  flavanoids  nonflavanoid_phenols  proanthocyanins  \\\n",
            "target                                                                     \n",
            "0            2.840169    2.982373              0.290000         1.899322   \n",
            "1            2.258873    2.080845              0.363662         1.630282   \n",
            "2            1.678750    0.781458              0.447500         1.153542   \n",
            "\n",
            "        color_intensity       hue  od280/od315_of_diluted_wines      proline  \n",
            "target                                                                        \n",
            "0              5.528305  1.062034                      3.157797  1115.711864  \n",
            "1              3.086620  1.056282                      2.785352   519.507042  \n",
            "2              7.396250  0.682708                      1.683542   629.895833  \n",
            "\n",
            "Selected features: flavanoids, proline\n"
          ]
        }
      ],
      "source": [
        "# ===== Please enter your answer code below. =====\n",
        "print(avg_features)\n",
        "print(\"\\nSelected features: flavanoids, proline\")"
      ]
    },
    {
      "cell_type": "markdown",
      "id": "pON_Ky5eth--",
      "metadata": {
        "collapsed": false,
        "id": "pON_Ky5eth--"
      },
      "source": [
        "### Problem 4-2\n",
        "\n",
        "Use a scatter plot to see if the two features selected in Problem 4-1 can successfully classify the type of wine.\n",
        "Here we will use `seaborn`'s `scatterplot` to draw. (*Hints are [here](https://seaborn.pydata.org/generated/seaborn.scatterplot.html))"
      ]
    },
    {
      "cell_type": "code",
      "execution_count": 113,
      "id": "MkirpTvsth--",
      "metadata": {
        "ExecuteTime": {
          "end_time": "2024-01-30T09:43:31.234996Z",
          "start_time": "2024-01-30T09:43:30.965521Z"
        },
        "colab": {
          "base_uri": "https://localhost:8080/",
          "height": 467
        },
        "id": "MkirpTvsth--",
        "outputId": "0de486e8-9bfa-48df-c598-a8a39c901a6e"
      },
      "outputs": [
        {
          "data": {
            "image/png": "[encoded data removed]",
            "text/plain": [
              "<Figure size 640x480 with 1 Axes>"
            ]
          },
          "metadata": {},
          "output_type": "display_data"
        }
      ],
      "source": [
        "# ===== Please enter your answer code below. =====\n",
        "sns.scatterplot(x=wine_df[\"flavanoids\"], y=wine_df[\"proline\"], hue=wine_data.target, palette=\"Set1\")\n",
        "plt.show()"
      ]
    }
  ],
  "metadata": {
    "colab": {
      "provenance": [],
      "toc_visible": true
    },
    "kernelspec": {
      "display_name": "base",
      "language": "python",
      "name": "python3"
    },
    "language_info": {
      "codemirror_mode": {
        "name": "ipython",
        "version": 3
      },
      "file_extension": ".py",
      "mimetype": "text/x-python",
      "name": "python",
      "nbconvert_exporter": "python",
      "pygments_lexer": "ipython3",
      "version": "3.12.7"
    }
  },
  "nbformat": 4,
  "nbformat_minor": 5
}
